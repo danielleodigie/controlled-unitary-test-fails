{
 "cells": [
  {
   "cell_type": "code",
   "execution_count": null,
   "metadata": {},
   "outputs": [],
   "source": [
    "import numpy\n",
    "from qiskit.circuit._utils import _compute_control_matrix\n",
    "from qiskit.quantum_info.operators.predicates import matrix_equal\n",
    "from qiskit.quantum_info.random import random_unitary\n",
    "from qiskit.quantum_info import Operator"
   ]
  },
  {
   "cell_type": "code",
   "execution_count": null,
   "metadata": {},
   "outputs": [],
   "source": [
    "numpy.set_printoptions(threshold=numpy.inf)\n",
    "falsecount = 0\n",
    "while falsecount < 10:\n",
    "    num_target = 2\n",
    "    ran_un = random_unitary(2**num_target)\n",
    "    base_gate = ran_un.to_instruction()\n",
    "    base_mat = base_gate.to_matrix()\n",
    "    cgate = base_gate.control(4)\n",
    "    test_op = Operator(cgate)\n",
    "    cop_mat = _compute_control_matrix(base_mat, 4)\n",
    "    if not matrix_equal(cop_mat, test_op.data):\n",
    "        with open('failinggates.txt', 'a') as f:\n",
    "            f.write(\"Run #\" + str(falsecount + 1))\n",
    "            f.write(\"\\n\")\n",
    "            f.write(\"Random Unitary\\n\")\n",
    "            numpy.savetxt(f, ran_un, delimiter=',')\n",
    "            f.write(\"\\n\")\n",
    "            f.write(\"-------------------------------------------\"  + \"\\n\")\n",
    "            f.write(\"Does cop_mat == test_op.data: \" + str(matrix_equal(cop_mat, test_op.data))  + \"\\n\")\n",
    "            f.write(\"-------------------------------------------\"  + \"\\n\")\n",
    "            f.write(\"base_mat:\"  + \"\\n\")\n",
    "            numpy.savetxt(f, base_mat, delimiter=',')\n",
    "            f.write(\"\\n\")\n",
    "            f.write(\"-------------------------------------------\"  + \"\\n\")\n",
    "            f.write(\"cop_mat:\"  + \"\\n\")\n",
    "            numpy.savetxt(f, cop_mat, delimiter=',')\n",
    "            f.write(\"\\n\")\n",
    "            f.write(\"-------------------------------------------\"  + \"\\n\")\n",
    "            f.write(\"test_op.data\"  + \"\\n\")\n",
    "            numpy.savetxt(f, test_op.data, delimiter=',')\n",
    "            f.write(\"\\n\")\n",
    "            f.write(\"-------------------------------------------\"  + \"\\n\")\n",
    "        falsecount += 1"
   ]
  }
 ],
 "metadata": {
  "language_info": {
   "name": "python"
  },
  "orig_nbformat": 4
 },
 "nbformat": 4,
 "nbformat_minor": 2
}
